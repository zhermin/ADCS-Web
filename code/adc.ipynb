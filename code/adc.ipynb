{
 "cells": [
  {
   "cell_type": "code",
   "execution_count": 103,
   "id": "deadba0c-f6bd-4688-b466-182db01fa411",
   "metadata": {},
   "outputs": [],
   "source": [
    "import pickle\n",
    "import pandas as pd\n",
    "import numpy as np\n",
    "import matplotlib.pyplot as plt\n",
    "import cv2\n",
    "import random\n",
    "import gc\n",
    "import os\n",
    "import glob"
   ]
  },
  {
   "cell_type": "code",
   "execution_count": 2,
   "id": "f1727849-b645-4011-968f-3aa6078ee1b0",
   "metadata": {},
   "outputs": [
    {
     "data": {
      "text/plain": [
       "'C:\\\\Users\\\\ZM\\\\Desktop'"
      ]
     },
     "execution_count": 2,
     "metadata": {},
     "output_type": "execute_result"
    }
   ],
   "source": [
    "os.getcwd()"
   ]
  },
  {
   "cell_type": "code",
   "execution_count": 102,
   "id": "3e4aa3b6-3e08-472d-9fb7-fb6f9793ab78",
   "metadata": {},
   "outputs": [
    {
     "name": "stdout",
     "output_type": "stream",
     "text": [
      "GPU: [] \n",
      "CUDA Enabled: True \n",
      "GPU Name:  \n",
      "Visible Devices: []\n",
      "[name: \"/device:CPU:0\"\n",
      "device_type: \"CPU\"\n",
      "memory_limit: 268435456\n",
      "locality {\n",
      "}\n",
      "incarnation: 6330907279845180667\n",
      "]\n"
     ]
    }
   ],
   "source": [
    "print(\"GPU:\", tf.config.list_physical_devices('GPU'), \"\\nCUDA Enabled:\", tf.test.is_built_with_cuda(), \"\\nGPU Name:\", tf.test.gpu_device_name(), \"\\nVisible Devices:\", tf.config.experimental.list_physical_devices('GPU'))\n",
    "from tensorflow.python.client import device_lib\n",
    "print(device_lib.list_local_devices())\n",
    "os.environ[\"CUDA_DEVICE_ORDER\"] = \"PCI_BUS_ID\"\n",
    "os.environ[\"CUDA_VISIBLE_DEVICES\"] = \"0\""
   ]
  },
  {
   "cell_type": "markdown",
   "id": "1cd91494-b1bf-42a9-b1e3-355dbd2bdb04",
   "metadata": {},
   "source": [
    "# Wafer Maps"
   ]
  },
  {
   "cell_type": "code",
   "execution_count": 3,
   "id": "1d268825-6f01-49c0-8708-1635072112bd",
   "metadata": {},
   "outputs": [
    {
     "name": "stdout",
     "output_type": "stream",
     "text": [
      "wafer-5359.jpg\n"
     ]
    },
    {
     "data": {
      "text/plain": [
       "-1"
      ]
     },
     "execution_count": 3,
     "metadata": {},
     "output_type": "execute_result"
    }
   ],
   "source": [
    "%matplotlib inline\n",
    "\n",
    "path = os.path.join(os.getcwd(), 'klarf-map')\n",
    "imgs = sorted(os.listdir(path))\n",
    "# for i in range(len(imgs)):\n",
    "i=76\n",
    "print(imgs[i])\n",
    "\n",
    "img_array = cv2.imread(os.path.join(path, imgs[i]))#, cv2.IMREAD_GRAYSCALE)\n",
    "\n",
    "result = img_array.copy()\n",
    "img_array = cv2.cvtColor(img_array, cv2.COLOR_BGR2HSV)\n",
    "\n",
    "lower1 = np.array([0,180,20])\n",
    "upper1 = np.array([25,255,255])\n",
    "\n",
    "lower2 = np.array([160,180,20])\n",
    "upper2 = np.array([180,255,255])\n",
    "\n",
    "mask1 = cv2.inRange(img_array, lower1, upper1)\n",
    "mask2 = cv2.inRange(img_array, lower2, upper2)\n",
    "mask = cv2.bitwise_or(mask1, mask2)\n",
    "\n",
    "result[mask == 255] = (255, 255, 255)\n",
    "\n",
    "result = cv2.bitwise_and(result, result, mask=mask)\n",
    "# result = cv2.cvtColor(result, cv2.COLOR_HSV2RGB)\n",
    "\n",
    "# cv2_imshow(mask)\n",
    "cv2.imshow('result', result)\n",
    "\n",
    "img_array = cv2.cvtColor(img_array, cv2.COLOR_HSV2BGR)\n",
    "cv2.imshow('img', img_array)\n",
    "cv2.waitKey()"
   ]
  },
  {
   "cell_type": "markdown",
   "id": "50ea5dfa-4ee3-49b6-8b21-c929d9f94204",
   "metadata": {},
   "source": [
    "# Edge Normal\n",
    "\n",
    "---\n",
    "\n",
    "With sigmoid + binary cross entropy the final dense layer should have 1 node"
   ]
  },
  {
   "cell_type": "code",
   "execution_count": 115,
   "id": "94294c0b-9d5a-4c89-a5c6-560948fb7e94",
   "metadata": {},
   "outputs": [],
   "source": [
    "NUM_CLASSES = 2\n",
    "SEED = 69\n",
    "IMG_SIZE = 256\n",
    "BATCH_SIZE = 8\n",
    "VAL_SPLIT = 0.2\n",
    "\n",
    "DEFECT_LIST = ['none', 'chipping']\n",
    "DEFECT_MAPPING = {DEFECT_LIST[i]:i for i in range(len(DEFECT_LIST))}"
   ]
  },
  {
   "cell_type": "code",
   "execution_count": 86,
   "id": "c908af90-cb3f-4f6c-a358-3981f01f7fc1",
   "metadata": {},
   "outputs": [
    {
     "name": "stdout",
     "output_type": "stream",
     "text": [
      "The tensorboard extension is already loaded. To reload it, use:\n",
      "  %reload_ext tensorboard\n"
     ]
    }
   ],
   "source": [
    "import time, datetime, pytz\n",
    "\n",
    "import tensorflow as tf\n",
    "\n",
    "from keras.preprocessing.image import ImageDataGenerator\n",
    "from keras.models import Sequential, load_model, Model\n",
    "from keras.layers import Dense, Dropout, Activation, Flatten, Conv2D, MaxPooling2D, AveragePooling2D, GlobalAveragePooling2D, BatchNormalization\n",
    "from keras.callbacks import TensorBoard, LearningRateScheduler, ModelCheckpoint, ReduceLROnPlateau, EarlyStopping\n",
    "from tensorflow.keras.optimizers import SGD, Adam, Adadelta, RMSprop\n",
    "from keras import layers\n",
    "\n",
    "%load_ext tensorboard"
   ]
  },
  {
   "cell_type": "code",
   "execution_count": 87,
   "id": "4e37095c-4890-41e1-b56b-34555b97c3e0",
   "metadata": {},
   "outputs": [],
   "source": [
    "EN_path = os.path.join(os.getcwd(), 'klarf-EN')"
   ]
  },
  {
   "cell_type": "code",
   "execution_count": 105,
   "id": "232cb89d-d7ca-4a75-a641-291806af4247",
   "metadata": {},
   "outputs": [
    {
     "name": "stdout",
     "output_type": "stream",
     "text": [
      "Found 2038 images belonging to 2 classes.\n",
      "Found 226 images belonging to 2 classes.\n"
     ]
    }
   ],
   "source": [
    "train_datagen = ImageDataGenerator(\n",
    "    rescale=1./255,\n",
    "#     shear_range=0.2,\n",
    "#     zoom_range=0.2,\n",
    "    vertical_flip=True,\n",
    "    horizontal_flip=True,\n",
    "#     fill_mode='constant',\n",
    "    cval=255,\n",
    "    validation_split=VAL_SPLIT # set validation split\n",
    ")\n",
    "\n",
    "train_generator = train_datagen.flow_from_directory(\n",
    "    EN_path,\n",
    "    target_size=(IMG_SIZE, IMG_SIZE),\n",
    "    batch_size=BATCH_SIZE,\n",
    "    class_mode='binary',\n",
    "    classes=DEFECT_LIST,\n",
    "    color_mode='rgb',\n",
    "    shuffle=True,\n",
    "    seed=SEED,\n",
    "#     save_to_dir=os.path.join(os.getcwd(), 'augmented-EN'),\n",
    "    subset='training'\n",
    ")\n",
    "\n",
    "val_datagen = ImageDataGenerator(\n",
    "    rescale=1./255,\n",
    "    validation_split=VAL_SPLIT # set validation split\n",
    ")\n",
    "\n",
    "val_generator = val_datagen.flow_from_directory(\n",
    "    EN_path, # same directory as training data\n",
    "    target_size=(IMG_SIZE, IMG_SIZE),\n",
    "    batch_size=BATCH_SIZE,\n",
    "    class_mode='binary',\n",
    "    classes=DEFECT_LIST,\n",
    "    color_mode='rgb',\n",
    "    shuffle=False,\n",
    "    seed=SEED,\n",
    "    subset='validation' # set as validation data\n",
    ")"
   ]
  },
  {
   "cell_type": "code",
   "execution_count": 89,
   "id": "575cf431-679d-4022-8bbe-6b52dc0c7fbf",
   "metadata": {},
   "outputs": [],
   "source": [
    "from sklearn.utils import class_weight\n",
    "\n",
    "class_weights = class_weight.compute_class_weight(\n",
    "    class_weight='balanced',\n",
    "    classes=np.unique(train_generator.classes), \n",
    "    y=train_generator.classes\n",
    ")\n",
    "class_weights = dict(enumerate(class_weights))"
   ]
  },
  {
   "cell_type": "code",
   "execution_count": 90,
   "id": "c45880be-06b9-43ea-9e22-cf70826fddbf",
   "metadata": {},
   "outputs": [
    {
     "data": {
      "text/plain": [
       "{0: 0.5067130780706116, 1: 37.74074074074074}"
      ]
     },
     "execution_count": 90,
     "metadata": {},
     "output_type": "execute_result"
    }
   ],
   "source": [
    "class_weights"
   ]
  },
  {
   "cell_type": "code",
   "execution_count": 108,
   "id": "b5e912a9-8529-4785-8eba-86e40278321c",
   "metadata": {},
   "outputs": [],
   "source": [
    "# model configs\n",
    "CONV_LAYERS = 4\n",
    "\n",
    "CONV_KERNEL_SIZE = (3,3)\n",
    "POOL_KERNEL_SIZE = (2,2)\n",
    "\n",
    "CONV_LAYER_SIZE = 32 # 32\n",
    "DENSE_LAYER_SIZE = 128 # 64\n",
    "\n",
    "CONV_PADDING = 'same' # valid / same\n",
    "FINAL_CONV = 'max' # max / avg / g_avg\n",
    "\n",
    "DROPOUT = 0.5\n",
    "\n",
    "# hyperparams\n",
    "EPOCHS = 20\n",
    "\n",
    "# optimizers\n",
    "lr = 1e-3\n",
    "sgd = SGD()\n",
    "adam = Adam(learning_rate=lr) # 1e-3\n",
    "adadelta = Adadelta() # bad\n",
    "rmsprop = RMSprop() # 1e-4\n",
    "\n",
    "OPTIMIZER = adam\n",
    "OPTIMIZER_NAME = str(OPTIMIZER).split(' ')[0].split('.')[-1]"
   ]
  },
  {
   "cell_type": "code",
   "execution_count": 109,
   "id": "482459cd-ffd2-48ad-8c5b-f72f960424ae",
   "metadata": {},
   "outputs": [
    {
     "name": "stdout",
     "output_type": "stream",
     "text": [
      "// 4x32-(3, 3)_0.5drop_20ep_Adam_[1Oct-1525]\n",
      "Epoch 1/20\n",
      "255/255 [==============================] - 103s 402ms/step - loss: 18.9805 - accuracy: 0.8047 - val_loss: 0.7743 - val_accuracy: 0.0442\n",
      "Epoch 2/20\n",
      "255/255 [==============================] - 105s 410ms/step - loss: 10.7813 - accuracy: 0.4980 - val_loss: 1.0506 - val_accuracy: 0.0133\n",
      "Epoch 3/20\n",
      "255/255 [==============================] - 109s 426ms/step - loss: 2.9524 - accuracy: 0.3871 - val_loss: 0.6006 - val_accuracy: 0.9381\n",
      "Epoch 4/20\n",
      "255/255 [==============================] - 103s 404ms/step - loss: 0.7457 - accuracy: 0.4235 - val_loss: 0.8149 - val_accuracy: 0.1814\n",
      "Epoch 5/20\n",
      "255/255 [==============================] - 95s 373ms/step - loss: 0.6869 - accuracy: 0.2767 - val_loss: 0.6652 - val_accuracy: 0.5708\n",
      "Epoch 6/20\n",
      "255/255 [==============================] - 105s 412ms/step - loss: 0.6875 - accuracy: 0.2542 - val_loss: 0.7435 - val_accuracy: 0.3230\n",
      "Epoch 7/20\n",
      "255/255 [==============================] - 108s 425ms/step - loss: 0.6893 - accuracy: 0.2184 - val_loss: 0.7345 - val_accuracy: 0.4646\n",
      "Epoch 8/20\n",
      "255/255 [==============================] - 109s 425ms/step - loss: 8.6347 - accuracy: 0.3243 - val_loss: 0.0965 - val_accuracy: 0.9867\n",
      "Epoch 9/20\n",
      "255/255 [==============================] - 108s 423ms/step - loss: 3.9962 - accuracy: 0.5873 - val_loss: 0.8436 - val_accuracy: 0.0133\n",
      "Epoch 10/20\n",
      "255/255 [==============================] - 100s 391ms/step - loss: 1.1288 - accuracy: 0.3597 - val_loss: 0.9460 - val_accuracy: 0.0133\n",
      "Epoch 11/20\n",
      "255/255 [==============================] - 96s 377ms/step - loss: 0.7259 - accuracy: 0.3974 - val_loss: 0.9880 - val_accuracy: 0.0133\n",
      "Epoch 12/20\n",
      "255/255 [==============================] - 95s 373ms/step - loss: 0.7152 - accuracy: 0.1820 - val_loss: 0.6359 - val_accuracy: 0.9292\n",
      "Epoch 13/20\n",
      "255/255 [==============================] - 97s 381ms/step - loss: 0.7797 - accuracy: 0.3234 - val_loss: 0.6662 - val_accuracy: 0.7434\n",
      "Epoch 14/20\n",
      "255/255 [==============================] - 96s 374ms/step - loss: 0.7175 - accuracy: 0.4647 - val_loss: 0.8847 - val_accuracy: 0.0133\n",
      "Epoch 15/20\n",
      "255/255 [==============================] - 96s 378ms/step - loss: 0.6985 - accuracy: 0.0132 - val_loss: 0.7976 - val_accuracy: 0.0133\n",
      "Epoch 16/20\n",
      "255/255 [==============================] - 96s 375ms/step - loss: 0.6808 - accuracy: 0.0132 - val_loss: 0.8100 - val_accuracy: 0.0133\n",
      "Epoch 17/20\n",
      "255/255 [==============================] - 95s 373ms/step - loss: 0.6927 - accuracy: 0.0132 - val_loss: 0.7361 - val_accuracy: 0.0133\n",
      "Epoch 18/20\n",
      "255/255 [==============================] - 95s 374ms/step - loss: 0.6920 - accuracy: 0.0132 - val_loss: 0.7492 - val_accuracy: 0.0133\n",
      "Epoch 19/20\n",
      "255/255 [==============================] - 105s 411ms/step - loss: 0.6904 - accuracy: 0.0137 - val_loss: 0.7967 - val_accuracy: 0.0133\n",
      "Epoch 20/20\n",
      "255/255 [==============================] - 107s 421ms/step - loss: 0.6764 - accuracy: 0.0711 - val_loss: 0.6873 - val_accuracy: 0.7124\n",
      "\n",
      "33.75 mins\n"
     ]
    },
    {
     "data": {
      "text/plain": [
       "20206"
      ]
     },
     "execution_count": 109,
     "metadata": {},
     "output_type": "execute_result"
    }
   ],
   "source": [
    "#--- CNN MODEL ---#\n",
    "model = Sequential()\n",
    "\n",
    "#--- Data Aug ---#\n",
    "# model.add(RandomFlip())\n",
    "# model.add(RandomRotation(0.2))\n",
    "\n",
    "#--- Input Layer ---#\n",
    "model.add(Conv2D(CONV_LAYER_SIZE, CONV_KERNEL_SIZE, input_shape=(IMG_SIZE, IMG_SIZE, 3), activation='relu', padding=CONV_PADDING, kernel_initializer = 'he_uniform'))\n",
    "# model.add(BatchNormalization())\n",
    "model.add(MaxPooling2D(POOL_KERNEL_SIZE))\n",
    "\n",
    "#--- Hidden Layers ---#\n",
    "for i in range(CONV_LAYERS-1):\n",
    "    model.add(Conv2D(CONV_LAYER_SIZE*2**i, CONV_KERNEL_SIZE, activation='relu', padding=CONV_PADDING, kernel_initializer = 'he_uniform'))\n",
    "    \n",
    "    if i != CONV_LAYERS-2:\n",
    "        model.add(MaxPooling2D(pool_size=POOL_KERNEL_SIZE))\n",
    "    else: # Set Final Conv Layer\n",
    "        if FINAL_CONV == 'max': model.add(MaxPooling2D(pool_size=POOL_KERNEL_SIZE))\n",
    "        elif FINAL_CONV == 'avg': model.add(AveragePooling2D(pool_size=POOL_KERNEL_SIZE))\n",
    "        elif FINAL_CONV == 'g_avg': model.add(GlobalAveragePooling2D())\n",
    "        # model.add(Dropout(0.1))\n",
    "        # model.add(BatchNormalization())\n",
    "\n",
    "#--- Output Layer ---#\n",
    "model.add(Flatten())\n",
    "model.add(Dense(DENSE_LAYER_SIZE, activation='relu'))\n",
    "model.add(Dropout(DROPOUT))\n",
    "\n",
    "model.add(Dense(1, activation='sigmoid'))\n",
    "\n",
    "#--- MODEL CALLBACKS ---#\n",
    "DATETIME = datetime.datetime.now(pytz.timezone('Asia/Singapore')).strftime('%#d%b-%H%M')\n",
    "NAME = f\"{CONV_LAYERS}x{CONV_LAYER_SIZE}-{CONV_KERNEL_SIZE}_{DROPOUT}drop_{EPOCHS}ep_{OPTIMIZER_NAME}_[{DATETIME}]\"\n",
    "\n",
    "tensorboard = TensorBoard(log_dir=f\"logs/{NAME}\") # tensorboard --log_dir=logs/\n",
    "earlystop = tf.keras.callbacks.EarlyStopping(monitor='val_loss', patience=10)\n",
    "checkpoint = ModelCheckpoint(f'drive/MyDrive/SSMC/models/{NAME}_BEST.h5', monitor='val_loss', verbose=1, save_best_only=True, mode='auto')\n",
    "lr_stagnate = ReduceLROnPlateau(monitor='val_loss', factor=0.4, patience=3, min_lr=1e-6, verbose=1, mode='auto')\n",
    "\n",
    "def scheduler(epoch, lr):\n",
    "    if epoch == 15:\n",
    "        return lr / 5\n",
    "    elif epoch == 30 or epoch == 40:\n",
    "        return lr / 2\n",
    "    else:\n",
    "        return lr\n",
    "\n",
    "lr_scheduler = tf.keras.callbacks.LearningRateScheduler(scheduler)\n",
    "\n",
    "CALLBACKS = [tensorboard]#, checkpoint, lr_stagnate, earlystop]\n",
    "CALLBACK_NAMES = [f'{str(c).split(\" \")[0].split(\".\")[-1]}' for c in CALLBACKS]\n",
    "\n",
    "#--- MODEL COMPILE ---#\n",
    "model.compile(loss='binary_crossentropy', optimizer=OPTIMIZER, metrics=['accuracy'])\n",
    "\n",
    "#--- MODEL FIT ---#\n",
    "start = time.time()\n",
    "print(f'// {NAME}')\n",
    "\n",
    "hist = model.fit(train_generator, validation_data=val_generator, batch_size=BATCH_SIZE, epochs=EPOCHS, class_weight=class_weights, callbacks=CALLBACKS)\n",
    "\n",
    "DURATION = round((time.time() - start)/60, 2)\n",
    "print(f'\\n{DURATION} mins')\n",
    "\n",
    "#--- Cleanup Ram ---#\n",
    "gc.collect()"
   ]
  },
  {
   "cell_type": "code",
   "execution_count": 19,
   "id": "e6d9dce2-3f7d-482a-899e-7c6c4196bd10",
   "metadata": {},
   "outputs": [
    {
     "data": {
      "text/html": [
       "\n",
       "      <iframe id=\"tensorboard-frame-92ed3f5050cd24c6\" width=\"100%\" height=\"800\" frameborder=\"0\">\n",
       "      </iframe>\n",
       "      <script>\n",
       "        (function() {\n",
       "          const frame = document.getElementById(\"tensorboard-frame-92ed3f5050cd24c6\");\n",
       "          const url = new URL(\"/\", window.location);\n",
       "          const port = 6006;\n",
       "          if (port) {\n",
       "            url.port = port;\n",
       "          }\n",
       "          frame.src = url;\n",
       "        })();\n",
       "      </script>\n",
       "    "
      ],
      "text/plain": [
       "<IPython.core.display.HTML object>"
      ]
     },
     "metadata": {},
     "output_type": "display_data"
    }
   ],
   "source": [
    "%tensorboard --logdir logs"
   ]
  },
  {
   "cell_type": "code",
   "execution_count": 110,
   "id": "9551c197-0a2f-428a-b513-31f047aa203e",
   "metadata": {},
   "outputs": [],
   "source": [
    "y_test = val_generator.classes\n",
    "y_pred = np.rint(model.predict(val_generator)).flatten()"
   ]
  },
  {
   "cell_type": "code",
   "execution_count": 111,
   "id": "d29b9c01-7d42-409b-8bc8-03db5db96b05",
   "metadata": {},
   "outputs": [
    {
     "data": {
      "text/plain": [
       "array([0., 1., 0., 1., 1., 0., 0., 0., 0., 0., 0., 0., 0., 1., 0., 0., 0.,\n",
       "       0., 1., 0., 0., 1., 1., 1., 0., 1., 0., 0., 0., 0., 0., 0., 1., 0.,\n",
       "       0., 0., 0., 0., 0., 0., 0., 0., 0., 0., 1., 0., 1., 0., 0., 1., 1.,\n",
       "       0., 0., 1., 0., 0., 0., 0., 0., 0., 1., 1., 0., 0., 0., 0., 0., 0.,\n",
       "       1., 0., 0., 1., 0., 1., 0., 0., 0., 0., 0., 1., 0., 0., 0., 0., 0.,\n",
       "       1., 1., 0., 0., 0., 1., 0., 1., 0., 1., 0., 0., 0., 1., 0., 0., 1.,\n",
       "       0., 0., 0., 1., 1., 0., 0., 0., 0., 1., 0., 0., 1., 1., 0., 1., 0.,\n",
       "       1., 0., 0., 0., 0., 0., 1., 0., 1., 0., 0., 0., 0., 1., 1., 0., 0.,\n",
       "       0., 0., 1., 0., 0., 1., 0., 0., 0., 0., 0., 0., 0., 1., 1., 0., 1.,\n",
       "       1., 0., 0., 0., 0., 0., 0., 0., 0., 0., 0., 0., 0., 0., 0., 0., 0.,\n",
       "       0., 1., 1., 1., 0., 0., 0., 0., 0., 0., 0., 0., 1., 0., 1., 1., 1.,\n",
       "       0., 0., 0., 0., 0., 0., 0., 0., 0., 0., 0., 1., 0., 0., 0., 1., 0.,\n",
       "       0., 0., 1., 0., 0., 1., 0., 0., 1., 0., 1., 1., 1., 0., 1., 0., 0.,\n",
       "       1., 0., 0., 0., 0.], dtype=float32)"
      ]
     },
     "execution_count": 111,
     "metadata": {},
     "output_type": "execute_result"
    }
   ],
   "source": [
    "y_pred"
   ]
  },
  {
   "cell_type": "code",
   "execution_count": 112,
   "id": "de6f770a-b4f9-47af-ae22-da4f32d29744",
   "metadata": {},
   "outputs": [],
   "source": [
    "accuracy = (y_test == y_pred).sum() / y_test.size\n",
    "TP = ((y_test == 1) & (y_pred == 1)).sum()\n",
    "FP = ((y_test == 0) & (y_pred == 1)).sum()\n",
    "TN = ((y_test == 0) & (y_pred == 0)).sum()\n",
    "FN = ((y_test == 0) & (y_pred == 1)).sum()\n",
    "precision = TP / (TP+FP)\n",
    "recall = TP / (TP+FN)"
   ]
  },
  {
   "cell_type": "code",
   "execution_count": 113,
   "id": "b8d1cef1-8072-46f5-81be-cf67566c39c3",
   "metadata": {},
   "outputs": [
    {
     "data": {
      "text/plain": [
       "(0.7123893805309734, 0, 62, 0.0, 0.0)"
      ]
     },
     "execution_count": 113,
     "metadata": {},
     "output_type": "execute_result"
    }
   ],
   "source": [
    "accuracy, TP, FP, precision, recall"
   ]
  },
  {
   "cell_type": "code",
   "execution_count": 114,
   "id": "1bb76caf-3d2d-46db-8138-0db958c42bb8",
   "metadata": {},
   "outputs": [
    {
     "data": {
      "image/png": "[encoded data removed]",
      "text/plain": [
       "<Figure size 720x720 with 2 Axes>"
      ]
     },
     "metadata": {
      "needs_background": "light"
     },
     "output_type": "display_data"
    }
   ],
   "source": [
    "from sklearn.metrics import confusion_matrix\n",
    "from sklearn.metrics import ConfusionMatrixDisplay\n",
    "\n",
    "cm = confusion_matrix(y_test, np.rint(y_pred))\n",
    "disp = ConfusionMatrixDisplay(confusion_matrix=cm, display_labels=DEFECT_LIST)\n",
    "\n",
    "fig, ax = plt.subplots(figsize=(10,10))\n",
    "ax.set_title(f'Confusion Matrix (Precision: {precision:.2%})')\n",
    "\n",
    "disp.plot(cmap=plt.cm.Blues, ax=ax)\n",
    "plt.show()"
   ]
  },
  {
   "cell_type": "markdown",
   "id": "d9b3590e-8026-45c2-8031-e14d7173627e",
   "metadata": {},
   "source": [
    "# Random Forest"
   ]
  },
  {
   "cell_type": "code",
   "execution_count": null,
   "id": "4ba737eb-786e-4a9b-991a-afcb49fb17a5",
   "metadata": {},
   "outputs": [],
   "source": [
    "feature_extractor = VGG_model.predict(x_train)\n",
    "\n",
    "features = feature_extractor.reshape(feature_extractor.shape[0], -1)\n",
    "\n",
    "X_for_RF = features # This is our X input to RF"
   ]
  },
  {
   "cell_type": "code",
   "execution_count": null,
   "id": "9fb8192a-0aaa-48cd-927a-9562906f208b",
   "metadata": {},
   "outputs": [],
   "source": [
    "X_for_RF.shape"
   ]
  },
  {
   "cell_type": "code",
   "execution_count": null,
   "id": "1b9dad5b-439f-447d-bf14-2e425817cea8",
   "metadata": {},
   "outputs": [],
   "source": [
    "from sklearn.ensemble import RandomForestClassifier\n",
    "RF_model = RandomForestClassifier(n_estimators=50, random_state=42)\n",
    "\n",
    "# Train the model on training data\n",
    "RF_model.fit(X_for_RF, y_train_encoded) #For sklearn no one hot encoding\n",
    "\n",
    "#Send test data through same feature extractor process\n",
    "X_test_feature = VGG_model.predict(x_test)\n",
    "X_test_features = X_test_feature.reshape(X_test_feature.shape[0], -1)"
   ]
  },
  {
   "cell_type": "code",
   "execution_count": null,
   "id": "4ecbcb2d-94dd-4033-be15-08c42cd94ad4",
   "metadata": {},
   "outputs": [],
   "source": [
    "#Now predict using the trained RF model. \n",
    "prediction_RF = RF_model.predict(X_test_features)\n",
    "#Inverse le transform to get original label back. \n",
    "prediction_RF = le.inverse_transform(prediction_RF)\n",
    "\n",
    "#Print overall accuracy\n",
    "from sklearn import metrics\n",
    "print (f'Accuracy = {metrics.accuracy_score(y_test, prediction_RF):.2%}')"
   ]
  },
  {
   "cell_type": "code",
   "execution_count": null,
   "id": "66b98301-cfa7-4bc9-8aa9-f95070a2de33",
   "metadata": {},
   "outputs": [],
   "source": [
    "prediction_RF"
   ]
  },
  {
   "cell_type": "code",
   "execution_count": null,
   "id": "1157200d-1fce-442e-b70b-a4f616bdc31c",
   "metadata": {},
   "outputs": [],
   "source": [
    "from sklearn.metrics import confusion_matrix\n",
    "\n",
    "cm = confusion_matrix(y_test, prediction_RF)\n",
    "#print(cm)\n",
    "sns.heatmap(cm, annot=True)"
   ]
  },
  {
   "cell_type": "code",
   "execution_count": null,
   "id": "c34e1023-2584-440f-8bde-e40792d2c0ad",
   "metadata": {},
   "outputs": [],
   "source": [
    "n = np.random.randint(0, x_test.shape[0])\n",
    "img = x_test[n]\n",
    "plt.imshow(img)\n",
    "input_img = np.expand_dims(img, axis=0) #Expand dims so the input is (num images, x, y, c)\n",
    "input_img_feature = VGG_model.predict(input_img)\n",
    "input_img_features = input_img_feature.reshape(input_img_feature.shape[0], -1)\n",
    "prediction_RF = RF_model.predict(input_img_features)[0]\n",
    "prediction_RF = le.inverse_transform([prediction_RF])  #Reverse the label encoder to original name\n",
    "print(\"The prediction for this image is: \", prediction_RF)\n",
    "print(\"The actual label for this image is: \", y_test[n])"
   ]
  }
 ],
 "metadata": {
  "kernelspec": {
   "display_name": "Python 3",
   "language": "python",
   "name": "python3"
  },
  "language_info": {
   "codemirror_mode": {
    "name": "ipython",
    "version": 3
   },
   "file_extension": ".py",
   "mimetype": "text/x-python",
   "name": "python",
   "nbconvert_exporter": "python",
   "pygments_lexer": "ipython3",
   "version": "3.8.8"
  }
 },
 "nbformat": 4,
 "nbformat_minor": 5
}
